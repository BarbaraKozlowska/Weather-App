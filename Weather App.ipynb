{
 "cells": [
  {
   "cell_type": "markdown",
   "id": "a19b1015",
   "metadata": {},
   "source": [
    "The Weather App!"
   ]
  },
  {
   "cell_type": "markdown",
   "id": "ba42d5cb",
   "metadata": {},
   "source": [
    "\n",
    "The weather app in Python is a simple program that fetches weather data from an external API (in this case, the OpenWeatherMap API) based on the user's input (city name) and displays the weather information in a graphical user interface (GUI) created using the Tkinter library.\n"
   ]
  },
  {
   "cell_type": "code",
   "execution_count": 4,
   "id": "1c3aaa54",
   "metadata": {},
   "outputs": [],
   "source": [
    "import requests\n",
    "import tkinter as tk\n",
    "\n",
    "def get_weather():\n",
    "    api_key = \"9d12bc28c801c02b06209340553c9576\"  \n",
    "    city = entry.get()\n",
    "    url = f\"http://api.openweathermap.org/data/2.5/weather?q={city}&appid={api_key}&units=metric\"\n",
    "    \n",
    "    response = requests.get(url)\n",
    "    data = response.json()\n",
    "    \n",
    "    try:\n",
    "        weather_description = data['weather'][0]['description'].capitalize()\n",
    "        temperature = data['main']['temp']\n",
    "        humidity = data['main']['humidity']\n",
    "        \n",
    "        result_label.config(text=f\"Weather: {weather_description}\\nTemperature: {temperature}°C\\nHumidity: {humidity}%\")\n",
    "    except KeyError:\n",
    "        result_label.config(text=\"City not found\")\n",
    "\n",
    "# Create the main application window\n",
    "app = tk.Tk()\n",
    "app.title(\"Weather App\")\n",
    "\n",
    "# Create and pack GUI components\n",
    "label = tk.Label(app, text=\"Enter City:\")\n",
    "label.pack(pady=10)\n",
    "\n",
    "entry = tk.Entry(app)\n",
    "entry.pack()\n",
    "\n",
    "get_weather_button = tk.Button(app, text=\"Get Weather\", command=get_weather)\n",
    "get_weather_button.pack(pady=10)\n",
    "\n",
    "result_label = tk.Label(app, text=\"\", font=(\"Helvetica\", 14))\n",
    "result_label.pack()\n",
    "\n",
    "# Start the GUI main loop\n",
    "app.mainloop()\n"
   ]
  }
 ],
 "metadata": {
  "kernelspec": {
   "display_name": "Python 3 (ipykernel)",
   "language": "python",
   "name": "python3"
  },
  "language_info": {
   "codemirror_mode": {
    "name": "ipython",
    "version": 3
   },
   "file_extension": ".py",
   "mimetype": "text/x-python",
   "name": "python",
   "nbconvert_exporter": "python",
   "pygments_lexer": "ipython3",
   "version": "3.9.16"
  }
 },
 "nbformat": 4,
 "nbformat_minor": 5
}
